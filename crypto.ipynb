{
 "cells": [
  {
   "cell_type": "code",
   "execution_count": null,
   "metadata": {},
   "outputs": [],
   "source": []
  },
  {
   "cell_type": "code",
   "execution_count": null,
   "metadata": {},
   "outputs": [
    {
     "name": "stdout",
     "output_type": "stream",
     "text": [
      "\n",
      "Investment: ₹102, Charges (TDS + Handling): 1.2%\n",
      "+----------------+----------------+----------------+\n",
      "| Profit (₹)     | Selling Price (₹) | Avg Buying Price (₹) |\n",
      "+----------------+----------------+----------------+\n",
      "| 10             | 30.78            | 28.00                |\n",
      "| 20             | 33.56            | 28.00                |\n",
      "| 30             | 36.34            | 28.00                |\n",
      "+----------------+----------------+----------------+\n"
     ]
    }
   ],
   "source": [
    "def calculate_selling_price(avg_buy_price, investment, profit, tds=0.01, handling_fee=0.012):\n",
    "    # Total charges deduction\n",
    "    total_charges = (tds + handling_fee) * investment\n",
    "    net_investment = investment - total_charges\n",
    "    \n",
    "    # Total quantity purchased\n",
    "    quantity = net_investment / avg_buy_price\n",
    "    \n",
    "    # Required selling price to achieve the profit\n",
    "    avg_sell_price = (net_investment + profit) / quantity\n",
    "    return avg_sell_price, avg_buy_price\n",
    "\n",
    "\n",
    "def print_price_table(avg_buy_price, investment, tds=0.01, handling_fee=0.012):\n",
    "    print(f\"\\nInvestment: ₹{investment}, Charges (TDS + Handling): {tds * 100 + handling_fee * 100}%\")\n",
    "    print(\"+----------------+----------------+----------------+\")\n",
    "    print(\"| Profit (₹)     | Selling Price (₹) | Avg Buying Price (₹) |\")\n",
    "    print(\"+----------------+----------------+----------------+\")\n",
    "    \n",
    "    for profit in [10, 20, 30]:\n",
    "        selling_price, adjusted_buy_price = calculate_selling_price(avg_buy_price, investment, profit, tds, handling_fee)\n",
    "        print(f\"| {profit:<14} | {selling_price:<16.2f} | {adjusted_buy_price:<20.2f} |\")\n",
    "    \n",
    "    print(\"+----------------+----------------+----------------+\")\n",
    "\n",
    "\n",
    "\n",
    "# Example Usage\n",
    "avg_buy_price = 28#float(input(\"Enter average buying price: \"))\n",
    "investment = 102 #float(input(\"Enter total money invested: \"))\n",
    "\n",
    "print_price_table(avg_buy_price, investment)\n"
   ]
  },
  {
   "cell_type": "code",
   "execution_count": 4,
   "metadata": {},
   "outputs": [
    {
     "name": "stdout",
     "output_type": "stream",
     "text": [
      "Total Investment (₹): 1200.00\n",
      "Total Quantity (DeFi): 1212.35\n",
      "Average Buy Price (₹): 0.99\n",
      "Break-Even Price (₹): 0.99\n",
      "Current Value (₹): 11638.55\n",
      "Current Profit (₹): 10438.55\n",
      "Required Sell Price for Target Profit (₹): 5.12\n"
     ]
    }
   ],
   "source": [
    "def calculate_crypto_values(investments, prices, quantities, current_price, target_profit=0):\n",
    "    # Total investment and quantity\n",
    "    total_investment = sum(investments)\n",
    "    total_quantity = sum(quantities)\n",
    "    \n",
    "    # Average buy price\n",
    "    avg_price = total_investment / total_quantity\n",
    "    \n",
    "    # Break-even price after 0.2% sell fee\n",
    "    break_even_price = avg_price / 0.998  \n",
    "\n",
    "    # Current profit calculation\n",
    "    current_value = total_quantity * current_price\n",
    "    current_profit = current_value - total_investment\n",
    "    \n",
    "    # Required sell price for target profit\n",
    "    required_sell_price = (total_investment + target_profit) / (total_quantity * 0.998)\n",
    "    \n",
    "    # Display results\n",
    "    return {\n",
    "        \"Total Investment (₹)\": total_investment,\n",
    "        \"Total Quantity (DeFi)\": total_quantity,\n",
    "        \"Average Buy Price (₹)\": avg_price,\n",
    "        \"Break-Even Price (₹)\": break_even_price,\n",
    "        \"Current Value (₹)\": current_value,\n",
    "        \"Current Profit (₹)\": current_profit,\n",
    "        \"Required Sell Price for Target Profit (₹)\": required_sell_price\n",
    "    }\n",
    "\n",
    "# Example Usage:\n",
    "# Investment amounts in ₹\n",
    "investments = [1000, 100, 100]  # Example: First ₹1000, then ₹100, then ₹100\n",
    "\n",
    "# Prices at which investments were made\n",
    "prices = [1.01, 0.91, 0.89]  # Corresponding buy prices\n",
    "\n",
    "# Quantities purchased at each price\n",
    "quantities = [1000/1.01, 100/0.91, 100/0.89]  # Calculate crypto units bought\n",
    "\n",
    "# Current market price of crypto\n",
    "current_price = 9.6  # Example: ₹9.6 per DeFi\n",
    "\n",
    "# Target profit you want (change this value)\n",
    "target_profit = 5000  # Example: ₹5000 profit\n",
    "\n",
    "# Calculate values\n",
    "results = calculate_crypto_values(investments, prices, quantities, current_price, target_profit)\n",
    "\n",
    "# Print results\n",
    "for key, value in results.items():\n",
    "    print(f\"{key}: {value:.2f}\")\n"
   ]
  },
  {
   "cell_type": "code",
   "execution_count": 6,
   "metadata": {},
   "outputs": [
    {
     "name": "stdout",
     "output_type": "stream",
     "text": [
      "\n",
      "Sell Price (₹) Total Value (₹)     Profit (₹)     \n",
      "--------------------------------------------------\n",
      "30.00          ₹109.07     ₹7.07\n",
      "35.00          ₹127.25     ₹25.25\n",
      "40.00          ₹145.42     ₹43.42\n",
      "45.00          ₹163.60     ₹61.60\n",
      "50.00          ₹181.78     ₹79.78\n",
      "55.00          ₹199.96     ₹97.96\n"
     ]
    }
   ],
   "source": [
    "def calculate_crypto_values(investments, prices, quantities, current_price, target_sell_prices):\n",
    "    # Total investment and quantity\n",
    "    total_investment = sum(investments)\n",
    "    total_quantity = sum(quantities)\n",
    "    \n",
    "    # Average buy price\n",
    "    avg_price = total_investment / total_quantity\n",
    "    \n",
    "    # Break-even price after 0.2% sell fee\n",
    "    break_even_price = avg_price / 0.998  \n",
    "\n",
    "    # Current profit calculation\n",
    "    current_value = total_quantity * current_price\n",
    "    current_profit = current_value - total_investment\n",
    "\n",
    "    # Print header\n",
    "    print(f\"\\n{'Sell Price (₹)':<15}{'Total Value (₹)':<20}{'Profit (₹)':<15}\")\n",
    "    print(\"-\" * 50)\n",
    "\n",
    "    # Iterate over target sell prices and calculate values\n",
    "    for price in target_sell_prices:\n",
    "        total_value = total_quantity * price * 0.998  # Deduct 0.2% fee\n",
    "        profit = total_value - total_investment\n",
    "        print(f\"{price:<15.2f}₹{total_value:,.2f}{' ' * (8 - len(str(int(total_value))))}₹{profit:,.2f}\")\n",
    "\n",
    "# Example Usage:\n",
    "# Investment amounts in ₹\n",
    "# investments = [1000, 100, 100]  # Example: First ₹1000, then ₹100, then ₹100\n",
    "investments = [102]\n",
    "# Prices at which investments were made\n",
    "# prices = [1.01, 0.91, 0.89]  # Corresponding buy prices\n",
    "prices = [28]\n",
    "\n",
    "# Quantities purchased at each price\n",
    "# quantities = [1000/1.01, 100/0.91, 100/0.89]  # Calculate crypto units bought\n",
    "quantities = [102/28]\n",
    "\n",
    "# Current market price of crypto\n",
    "current_price = 30  # Example: ₹9.6 per DeFi\n",
    "\n",
    "# Target sell prices to evaluate\n",
    "target_sell_prices = [30, 35, 40, 45, 50, 55]  # Example prices\n",
    "\n",
    "# Calculate and display values\n",
    "calculate_crypto_values(investments, prices, quantities, current_price, target_sell_prices)\n"
   ]
  },
  {
   "cell_type": "code",
   "execution_count": 29,
   "metadata": {},
   "outputs": [
    {
     "data": {
      "text/plain": [
       "1000.0"
      ]
     },
     "execution_count": 29,
     "metadata": {},
     "output_type": "execute_result"
    }
   ],
   "source": [
    "qty = 212.9\n",
    "unit_price_crypto = 4.697\n",
    "coinDCX_fee_amount = 5\n",
    "GST_fee_amount = 0.9\n",
    "total_amount_invested_including_fee = 1005.9\n",
    "\n",
    "total_amount_invested_excluding_fee = total_amount_invested_including_fee - coinDCX_fee_amount - GST_fee_amount\n",
    "total_amount_invested_excluding_fee"
   ]
  },
  {
   "cell_type": "code",
   "execution_count": 159,
   "metadata": {},
   "outputs": [
    {
     "name": "stdout",
     "output_type": "stream",
     "text": [
      "-------------------------------------------------\n",
      "total_amount_invested_excluding_fee:  [100]\n",
      "total_amount_invested_including_fee:  [100.59]\n",
      "crypto_bought_price:  [4.697]\n",
      "crypto_bought_quantity:  [21.29]\n",
      "avg_bought_price:  4.697\n",
      "-----------------------------------------------------------------------------------------------------------------\n",
      "Target Profit (₹)   | Tot fee debit (₹)  | Sell Point tot trade money (₹)  | Sell Point (Avg Buying Unit Value)    \n",
      "-----------------------------------------------------------------------------------------------------------------\n",
      "0                        2.18                     102.180                       4.799                                   \n",
      "5                        2.26                     107.260                       5.038                                   \n",
      "10                       2.339                    112.339                       5.277                                   \n",
      "15                       2.418                    117.418                       5.515                                   \n",
      "20                       2.498                    122.498                       5.754                                   \n",
      "25                       2.578                    127.578                       5.992                                   \n",
      "-----------------------------------------------------------------------------------------------------------------\n"
     ]
    }
   ],
   "source": [
    "total_amount_invested_excluding_fee = [1000, 100, 100]\n",
    "crypto_bought_price = [4.697, 4.695, 4.694]\n",
    "total_amount_invested_excluding_fee = [100]\n",
    "crypto_bought_price = [4.697]\n",
    "############################################################################\n",
    "\n",
    "coinDCX_fee_pct = .5\n",
    "GST_fee_pct = 18\n",
    "tds_pct = 1\n",
    "\n",
    "coinDCX_fee_amount = []\n",
    "GST_fee_amount = []\n",
    "total_amount_invested_including_fee = []\n",
    "crypto_bought_quantity = []\n",
    "for i in range(0, len(total_amount_invested_excluding_fee)):\n",
    "    coinDCX_fee_amount.append(total_amount_invested_excluding_fee[i] * (coinDCX_fee_pct / 100))\n",
    "    GST_fee_amount.append(round(coinDCX_fee_amount[i] * (GST_fee_pct / 100),3))\n",
    "    total_amount_invested_including_fee.append(total_amount_invested_excluding_fee[i] + coinDCX_fee_amount[i] + GST_fee_amount[i])\n",
    "    crypto_bought_quantity.append(round((total_amount_invested_excluding_fee[i] / crypto_bought_price[i]), 3))\n",
    "\n",
    "\n",
    "print('-------------------------------------------------')\n",
    "print('total_amount_invested_excluding_fee: ', total_amount_invested_excluding_fee)\n",
    "# print('coinDCX_fee_amount: ', coinDCX_fee_amount)\n",
    "# print('GST_fee_amount: ', GST_fee_amount)\n",
    "print('total_amount_invested_including_fee: ', total_amount_invested_including_fee)\n",
    "print('crypto_bought_price: ', crypto_bought_price)\n",
    "print('crypto_bought_quantity: ', crypto_bought_quantity)\n",
    "avg_bought_price = sum(total_amount_invested_excluding_fee)/sum(crypto_bought_quantity)\n",
    "print('avg_bought_price: ', round(avg_bought_price, 3))\n",
    "\n",
    "target_profits_in_rs = [0, 5, 10, 15, 20, 25]\n",
    "sell_prices = []\n",
    "\n",
    "# table view\n",
    "print(\"-\" * 113)\n",
    "print(f\"{'Target Profit (₹)':<20}{'| Tot fee debit (₹)':<20}{' | Sell Point tot trade money (₹)':<35}{'| Sell Point (Avg Buying Unit Value)':<40}\")\n",
    "print(\"-\" * 113)\n",
    "\n",
    "for target_profit in target_profits_in_rs:\n",
    "\n",
    "    amount_to_sell = sum(total_amount_invested_excluding_fee) + target_profit \n",
    "    tds_sell_amount = amount_to_sell * (tds_pct / 100)\n",
    "    coinDCX_sell_fee_amount = amount_to_sell * (coinDCX_fee_pct / 100)\n",
    "    GST_sell_fee_amount = coinDCX_sell_fee_amount * (GST_fee_pct / 100)\n",
    "\n",
    "    total_fee_debit_sell = tds_sell_amount + coinDCX_sell_fee_amount + GST_sell_fee_amount\n",
    "    total_fee_debit_buy = sum(coinDCX_fee_amount) + sum(GST_fee_amount)\n",
    "    total_fee_debit = round(total_fee_debit_sell + total_fee_debit_buy, 3)\n",
    "\n",
    "    sell_price = amount_to_sell + total_fee_debit\n",
    "    sell_prices.append(sell_price)\n",
    "\n",
    "    current_avg_buy_price = sell_price / sum(crypto_bought_quantity)\n",
    "    \n",
    "    print(f\"{target_profit:<25}{total_fee_debit:<25}{sell_price:<30.3f}{current_avg_buy_price:<40.3f}\")   \n",
    "print(\"-\" * 113)"
   ]
  },
  {
   "cell_type": "code",
   "execution_count": null,
   "metadata": {},
   "outputs": [],
   "source": []
  },
  {
   "cell_type": "code",
   "execution_count": null,
   "metadata": {},
   "outputs": [],
   "source": []
  },
  {
   "cell_type": "code",
   "execution_count": null,
   "metadata": {},
   "outputs": [],
   "source": []
  },
  {
   "cell_type": "code",
   "execution_count": null,
   "metadata": {},
   "outputs": [],
   "source": []
  }
 ],
 "metadata": {
  "kernelspec": {
   "display_name": "Python 3",
   "language": "python",
   "name": "python3"
  },
  "language_info": {
   "codemirror_mode": {
    "name": "ipython",
    "version": 3
   },
   "file_extension": ".py",
   "mimetype": "text/x-python",
   "name": "python",
   "nbconvert_exporter": "python",
   "pygments_lexer": "ipython3",
   "version": "3.11.4"
  }
 },
 "nbformat": 4,
 "nbformat_minor": 2
}
