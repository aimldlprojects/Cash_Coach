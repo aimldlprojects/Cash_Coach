{
 "cells": [
  {
   "cell_type": "code",
   "execution_count": 53,
   "metadata": {},
   "outputs": [],
   "source": [
    "# Inputs:\n",
    "# total_amount_invested_excluding_fee = [1000, 100, 100]\n",
    "# crypto_bought_price = [4.697, 4.695, 4.694]\n",
    "\n",
    "############################################################################\n",
    "def calculate_crypto_values(amounts_invested_excluding_fee, crypto_bought_prices, target_sell_prices=[0, 4.43, 5, 10, 15, 20, 25]):\n",
    "    '''\n",
    "    Function to calculate the investment details and target sell prices for a given crypto investment.\n",
    "    Inputs:\n",
    "        amounts_invested_excluding_fee: List of amounts invested in crypto excluding fees.  \n",
    "        crypto_bought_prices: List of prices at which the crypto was bought.\n",
    "        target_sell_prices: List of target sell prices to calculate the target profit.\n",
    "    '''\n",
    "    # Fee percentages\n",
    "    coinDCX_fee_pct = 0.5\n",
    "    GST_fee_pct = 18\n",
    "    tds_pct = 1\n",
    "\n",
    "    # Initialize lists\n",
    "    coinDCX_fee_amount = []\n",
    "    GST_fee_amount = []\n",
    "    amounts_list_invested_including_fee = []\n",
    "    crypto_bought_quantity = []\n",
    "\n",
    "    # Calculate fees and investment details\n",
    "    for i in range(len(amounts_invested_excluding_fee)):\n",
    "        coinDCX_fee = amounts_invested_excluding_fee[i] * (coinDCX_fee_pct / 100)\n",
    "        gst_fee = round(coinDCX_fee * (GST_fee_pct / 100), 3)\n",
    "        amount_invested_including_fee = amounts_invested_excluding_fee[i] + coinDCX_fee + gst_fee\n",
    "        quantity = round((amounts_invested_excluding_fee[i] / crypto_bought_prices[i]), 9)\n",
    "\n",
    "        coinDCX_fee_amount.append(coinDCX_fee)\n",
    "        GST_fee_amount.append(gst_fee)\n",
    "        amounts_list_invested_including_fee.append(amount_invested_including_fee)\n",
    "        crypto_bought_quantity.append(quantity)\n",
    "\n",
    "    # Compute averages\n",
    "    total_crypto_bought_qty = round(sum(crypto_bought_quantity),1)\n",
    "    total_investment_excluding_fee = sum(amounts_invested_excluding_fee)\n",
    "    total_amount_invested_including_fee = sum(amounts_list_invested_including_fee)\n",
    "    avg_bought_price = round((total_investment_excluding_fee / total_crypto_bought_qty), 9)\n",
    "\n",
    "\n",
    "    # Display basic investment details\n",
    "    print('-------------------------------------------------')\n",
    "    print(f\"{'Total Investment including fee (₹)':<30}: {total_amount_invested_including_fee:.2f}\")\n",
    "    print(f\"{'Total Investment excluding fee (₹)':<30}: {total_investment_excluding_fee:.2f}\")\n",
    "    print(f\"{'Total Crypto Bought Quantity':<30}: {total_crypto_bought_qty:.1f}\")\n",
    "    print(f\"{'Avg Bought Price (₹)':<30}: {avg_bought_price:.3f}\")\n",
    "    print('-------------------------------------------------')\n",
    "    \n",
    "    # Table Header\n",
    "    print(\"-\" * 113)\n",
    "    print(f\"{'Target Profit (₹)':<20}{'| Total Fee Debit (₹)':<25}{'| Sell Point tot trade money (₹)':<35}{'| Sell Point crypto money(₹/Unit)':<40}\")\n",
    "    print(\"-\" * 113)\n",
    "\n",
    "    for target_profit in target_sell_prices:\n",
    "        # Adjust the total amount needed to get the profit\n",
    "        required_sell_value_without_fee = total_investment_excluding_fee + target_profit\n",
    "\n",
    "        # Fees on selling\n",
    "        tds_sell_fee = required_sell_value_without_fee * (tds_pct / 100)\n",
    "        coinDCX_sell_fee = required_sell_value_without_fee * (coinDCX_fee_pct / 100)\n",
    "        GST_sell_fee = coinDCX_sell_fee * (GST_fee_pct / 100)\n",
    "\n",
    "        # Total fees incurred\n",
    "        total_fee_debit = round(sum(coinDCX_fee_amount) + sum(GST_fee_amount) + tds_sell_fee + coinDCX_sell_fee + GST_sell_fee, 3)\n",
    "        print(sum(coinDCX_fee_amount) , sum(GST_fee_amount) , tds_sell_fee , coinDCX_sell_fee , GST_sell_fee)\n",
    "\n",
    "        # Required total trade value (adjusted for all fees)\n",
    "        required_sell_value_with_fee = required_sell_value_without_fee + total_fee_debit\n",
    "\n",
    "        # Required sell price per unit\n",
    "        required_sell_price = required_sell_value_without_fee / total_crypto_bought_qty\n",
    "\n",
    "        \n",
    "        print(f\"{target_profit:<25}{total_fee_debit:<25}{required_sell_value_with_fee:<30.3f}{required_sell_price:<40.3f}\")   \n",
    "    print(\"-\" * 113)\n",
    "    print(tds_sell_fee, coinDCX_sell_fee, GST_sell_fee)\n"
   ]
  },
  {
   "cell_type": "code",
   "execution_count": 1,
   "metadata": {},
   "outputs": [
    {
     "name": "stdout",
     "output_type": "stream",
     "text": [
      "[{'case event type class': ''}, {'event': 'Fatigue', 'event type class': '', 'reasoning for MedDRA': ''}, {'event': 'fatigue from Abrysvo RSV vaccine', 'event type class': '', 'reasoning for MedDRA': ''}]\n"
     ]
    }
   ],
   "source": [
    "import json\n",
    "\n",
    "# Original malformed string (fixed as raw multiline string)\n",
    "list_str = '''\n",
    "[\n",
    "    {\n",
    "        \"case event type class\": \"\"\n",
    "    },\n",
    "    {\n",
    "        \"event\": \"Fatigue\",\n",
    "        \"event type class\": \"\",\n",
    "        \"reasoning for MedDRA\": \"\"\n",
    "    },\n",
    "    {\n",
    "        \"event\": \"fatigue from Abrysvo RSV vaccine\",\n",
    "        \"event type class\": \"\",\n",
    "        \"reasoning for MedDRA\": \"\"\n",
    "    }\n",
    "]\n",
    "'''\n",
    "\n",
    "# Convert string to Python list\n",
    "data_list = json.loads(list_str)\n",
    "\n",
    "# Verify the result\n",
    "print(data_list)\n"
   ]
  },
  {
   "cell_type": "code",
   "execution_count": 54,
   "metadata": {},
   "outputs": [
    {
     "name": "stdout",
     "output_type": "stream",
     "text": [
      "-------------------------------------------------\n",
      "Total Investment including fee (₹): 402.36\n",
      "Total Investment excluding fee (₹): 400.00\n",
      "Total Crypto Bought Quantity  : 87.4\n",
      "Avg Bought Price (₹)          : 4.577\n",
      "-------------------------------------------------\n",
      "-----------------------------------------------------------------------------------------------------------------\n",
      "Target Profit (₹)   | Total Fee Debit (₹)    | Sell Point tot trade money (₹)   | Sell Point crypto money(₹/Unit)       \n",
      "-----------------------------------------------------------------------------------------------------------------\n",
      "2.0 0.36 4.0 2.0 0.36\n",
      "0                        8.72                     408.720                       4.577                                   \n",
      "2.0 0.36 4.0443 2.02215 0.36398699999999995\n",
      "4.43                     8.79                     413.220                       4.627                                   \n",
      "2.0 0.36 4.05 2.025 0.3645\n",
      "5                        8.8                      413.800                       4.634                                   \n",
      "2.0 0.36 4.1 2.05 0.36899999999999994\n",
      "10                       8.879                    418.879                       4.691                                   \n",
      "2.0 0.36 4.15 2.075 0.3735\n",
      "15                       8.959                    423.959                       4.748                                   \n",
      "2.0 0.36 4.2 2.1 0.378\n",
      "20                       9.038                    429.038                       4.805                                   \n",
      "2.0 0.36 4.25 2.125 0.3825\n",
      "25                       9.117                    434.117                       4.863                                   \n",
      "-----------------------------------------------------------------------------------------------------------------\n",
      "4.25 2.125 0.3825\n"
     ]
    }
   ],
   "source": [
    "amounts_invested_excluding_fee = [400]\n",
    "crypto_bought_prices = [4.579]\n",
    "calculate_crypto_values(amounts_invested_excluding_fee=amounts_invested_excluding_fee, crypto_bought_prices=crypto_bought_prices)"
   ]
  },
  {
   "cell_type": "code",
   "execution_count": 46,
   "metadata": {},
   "outputs": [
    {
     "data": {
      "text/plain": [
       "4.430999999999983"
      ]
     },
     "execution_count": 46,
     "metadata": {},
     "output_type": "execute_result"
    }
   ],
   "source": [
    "413.44-(400+2.36+2.099+0.380+4.17)"
   ]
  },
  {
   "cell_type": "code",
   "execution_count": 28,
   "metadata": {},
   "outputs": [
    {
     "data": {
      "text/plain": [
       "9.009"
      ]
     },
     "execution_count": 28,
     "metadata": {},
     "output_type": "execute_result"
    }
   ],
   "source": [
    "2.36+2.099+0.380+4.17"
   ]
  },
  {
   "cell_type": "code",
   "execution_count": 25,
   "metadata": {},
   "outputs": [
    {
     "name": "stdout",
     "output_type": "stream",
     "text": [
      "-------------------------------------------------\n",
      "Total Investment including fee (₹): 102.60\n",
      "Total Investment excluding fee (₹): 102.00\n",
      "Total Crypto Bought Quantity  : 3.643\n",
      "Avg Bought Price (₹)          : 27.999\n",
      "-------------------------------------------------\n",
      "-----------------------------------------------------------------------------------------------------------------\n",
      "Target Profit (₹)   | Total Fee Debit (₹)    | Sell Point tot trade money (₹)   | Sell Point crypto money(₹/Unit)       \n",
      "-----------------------------------------------------------------------------------------------------------------\n",
      "0                        2.224                    104.224                       27.999                                  \n",
      "4.431                    2.294                    108.725                       29.215                                  \n",
      "5                        2.303                    109.303                       29.371                                  \n",
      "10                       2.383                    114.383                       30.744                                  \n",
      "15                       2.462                    119.462                       32.116                                  \n",
      "20                       2.542                    124.542                       33.489                                  \n",
      "25                       2.621                    129.621                       34.861                                  \n",
      "-----------------------------------------------------------------------------------------------------------------\n"
     ]
    }
   ],
   "source": [
    "#Fart Coin\n",
    "amounts_invested_excluding_fee = [102]\n",
    "crypto_bought_prices = [28]\n",
    "calculate_crypto_values(amounts_invested_excluding_fee=amounts_invested_excluding_fee, crypto_bought_prices=crypto_bought_prices)"
   ]
  }
 ],
 "metadata": {
  "kernelspec": {
   "display_name": "Python 3",
   "language": "python",
   "name": "python3"
  },
  "language_info": {
   "codemirror_mode": {
    "name": "ipython",
    "version": 3
   },
   "file_extension": ".py",
   "mimetype": "text/x-python",
   "name": "python",
   "nbconvert_exporter": "python",
   "pygments_lexer": "ipython3",
   "version": "3.11.4"
  }
 },
 "nbformat": 4,
 "nbformat_minor": 2
}
